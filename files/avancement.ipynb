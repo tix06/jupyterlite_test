{
 "cells": [
  {
   "cell_type": "code",
   "execution_count": 15,
   "metadata": {},
   "outputs": [],
   "source": [
    "# programme simulant l'avancement d'une reaction\n",
    "# l'equation est ecrite selon : eq={\"reac\":{\"H2\":[1,2],\"O2\":[0.5,2]},\"prod\":{\"H2O\":[1,0]}}\n",
    "\n",
    "eq={\"reac\":{},\"prod\":{}}\n",
    "\n",
    "\n",
    "# par exemple, pour 1 H2 + 0.5 O2 => 1 H2O, \n",
    "# et contenant 2 mol de H2, 2 mol de O2 et 0 mol H20 : \n",
    "# mettre \"H2\":[2,2] ,\"O2\":[2,0] pour les reactifs et \"H2O\":[1,0]\n",
    "\n",
    "def fin(reac):\n",
    "    \"\"\"\n",
    "    retourne True lorsque l'un des reactif arrive à 0 mol ou moins\n",
    "    False si aucun des reactifs n'est <=0\n",
    "    et True egalement si aucun reactif n'est renseigne\n",
    "    \"\"\"\n",
    "    b=True\n",
    "    if reac!={}:\n",
    "        b=False\n",
    "        for i in reac.keys():\n",
    "            if reac[i][1]<=0: b = True # test sur la valeur de chacun des reactifs\n",
    "    return b\n",
    "\n",
    "def avance(eq,dx):\n",
    "    \"\"\"\n",
    "    fonction qui modifie la valeur des quantites\n",
    "    pour chaque espece (valeur de la liste pour le rang 1)\n",
    "    et retourne l'avancement x lorsque le premier reactif arrive a zero\n",
    "    \"\"\"\n",
    "    x=0\n",
    "    reac = eq[\"reac\"]\n",
    "    prod = eq[\"prod\"]\n",
    "    while fin(reac)==False: # il reste des reactifs\n",
    "        x+=dx\n",
    "        for i in reac.keys():\n",
    "            reac[i][1]-=reac[i][0]*dx\n",
    "        for j in prod.keys():\n",
    "            prod[j][1]+=prod[j][0]*dx       \n",
    "    return x       "
   ]
  },
  {
   "cell_type": "code",
   "execution_count": 16,
   "metadata": {},
   "outputs": [
    {
     "data": {
      "text/plain": [
       "2.0000000000000004"
      ]
     },
     "execution_count": 16,
     "metadata": {},
     "output_type": "execute_result"
    }
   ],
   "source": [
    "eq={\"reac\":{\"H2\":[1,2],\"O2\":[0.5,2]},\"prod\":{\"H2O\":[1,0]}}\n",
    "avance(eq,0.1)"
   ]
  },
  {
   "cell_type": "code",
   "execution_count": 17,
   "metadata": {},
   "outputs": [
    {
     "data": {
      "text/plain": [
       "{'reac': {'H2': [1, -6.38378239159465e-16], 'O2': [0.5, 0.9999999999999991]},\n",
       " 'prod': {'H2O': [1, 2.0000000000000004]}}"
      ]
     },
     "execution_count": 17,
     "metadata": {},
     "output_type": "execute_result"
    }
   ],
   "source": [
    "eq"
   ]
  },
  {
   "cell_type": "code",
   "execution_count": null,
   "metadata": {},
   "outputs": [],
   "source": []
  }
 ],
 "metadata": {
  "kernelspec": {
   "display_name": "Python 3",
   "language": "python",
   "name": "python3"
  },
  "language_info": {
   "codemirror_mode": {
    "name": "ipython",
    "version": 3
   },
   "file_extension": ".py",
   "mimetype": "text/x-python",
   "name": "python",
   "nbconvert_exporter": "python",
   "pygments_lexer": "ipython3",
   "version": "3.7.6"
  }
 },
 "nbformat": 4,
 "nbformat_minor": 4
}
